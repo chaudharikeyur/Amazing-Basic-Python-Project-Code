{
 "cells": [
  {
   "cell_type": "code",
   "execution_count": null,
   "metadata": {},
   "outputs": [],
   "source": [
    "def check_guess(guess , ans):\n",
    "    global score\n",
    "    attempt = 0\n",
    "    still_gussing =True \n",
    "    while still_gussing and attempt<3:\n",
    "        if guess.lower() == ans.lower():\n",
    "            print(\"correct answer\")\n",
    "            score = score + 1\n",
    "            still_gussing = False\n",
    "        else:\n",
    "            if attempt<2:\n",
    "                gusse=input(\"sorry wrong answer try again\")\n",
    "            attempt = attempt +1\n",
    "    if attempt == 3:\n",
    "        print(\"Correct ans is\",ans)\n",
    "        \n",
    "score = 0\n",
    "print(\"Guess the Animal\")\n",
    "guess1 = input(\"Which bear lives at the North Pole?\\t \")\n",
    "check_guess(guess1, \"polar bear\")\n",
    "guess2 = input(\"Which is the fastest land animal?\\t \")\n",
    "check_guess(guess2, \"Cheetah\")\n",
    "guess3 = input(\"Which is the larget animal?\\t \")\n",
    "check_guess(guess3, \"Blue Whale\")\n",
    "print(\"Your Score is \"+ str(score))        \n",
    "\n"
   ]
  }
 ],
 "metadata": {
  "kernelspec": {
   "display_name": "Python 3",
   "language": "python",
   "name": "python3"
  },
  "language_info": {
   "codemirror_mode": {
    "name": "ipython",
    "version": 3
   },
   "file_extension": ".py",
   "mimetype": "text/x-python",
   "name": "python",
   "nbconvert_exporter": "python",
   "pygments_lexer": "ipython3",
   "version": "3.8.3"
  }
 },
 "nbformat": 4,
 "nbformat_minor": 4
}
