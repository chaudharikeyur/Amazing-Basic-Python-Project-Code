{
 "cells": [
  {
   "cell_type": "code",
   "execution_count": null,
   "metadata": {},
   "outputs": [],
   "source": [
    "import random\n",
    "choices = ['Stone','Paper','Scissor']\n",
    "com = random.choice(choices)\n",
    "player = False\n",
    "com_score = 0\n",
    "player_score = 0\n",
    "while True:\n",
    "    player = input(\"enter your choice from Stone , Paper , Scissor or End\\n\").capitalize()\n",
    "    #lets check the condtition \n",
    "    if player == com:\n",
    "        print(\"Tie!\")\n",
    "    elif player == 'Stone':\n",
    "        if com == 'Paper':\n",
    "            print(\"You Lose\")\n",
    "            com_score = com_score +1\n",
    "        else:\n",
    "            print(\"You win\")\n",
    "            player_score = player_score + 1\n",
    "    elif player == 'Paper':\n",
    "        if com == 'Scissor':\n",
    "            print(\"You Lose\")\n",
    "            com_score = com_score +1\n",
    "        else:\n",
    "            print(\"Tou Win\")\n",
    "            player_score = player_score +1\n",
    "    elif player ==' Scissor':\n",
    "        if com == 'Stone':\n",
    "            print(\"You Lose\")\n",
    "            com_score = com_score +1\n",
    "        else:\n",
    "            print(\"You win\")\n",
    "            player_score = player_score + 1   \n",
    "    elif player=='End':\n",
    "        print(\"Final Scores:\\n\")\n",
    "        print(\"Computer's score is\\n\",com_score)\n",
    "        print(\"player score is\",player_score)\n",
    "        break        "
   ]
  }
 ],
 "metadata": {
  "kernelspec": {
   "display_name": "Python 3",
   "language": "python",
   "name": "python3"
  },
  "language_info": {
   "codemirror_mode": {
    "name": "ipython",
    "version": 3
   },
   "file_extension": ".py",
   "mimetype": "text/x-python",
   "name": "python",
   "nbconvert_exporter": "python",
   "pygments_lexer": "ipython3",
   "version": "3.8.3"
  }
 },
 "nbformat": 4,
 "nbformat_minor": 4
}
